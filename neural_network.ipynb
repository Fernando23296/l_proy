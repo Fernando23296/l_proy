{
 "cells": [
  {
   "cell_type": "markdown",
   "metadata": {},
   "source": [
    "# Neural Network"
   ]
  },
  {
   "cell_type": "markdown",
   "metadata": {},
   "source": [
    "### Ejemplo de Clases y objetos"
   ]
  },
  {
   "cell_type": "code",
   "execution_count": 17,
   "metadata": {},
   "outputs": [],
   "source": [
    "class Dog:\n",
    "    def __init__(self,petname, temp):\n",
    "        self.name=petname\n",
    "        self.temperature=temp\n",
    "    def status(self):\n",
    "        print(\"El nombre del perro es: \",self.name)\n",
    "        print(\"La temperatura del perro es: \",self.temperature)\n",
    "    def setTemperature(self,temp):\n",
    "        #print(\"Su temperatura es:\",self.temperature)\n",
    "        self.temperature=temp\n",
    "        pass\n",
    "    def bark(self):\n",
    "        print(\"Wroff!\")\n",
    "    pass"
   ]
  },
  {
   "cell_type": "code",
   "execution_count": 20,
   "metadata": {},
   "outputs": [
    {
     "name": "stdout",
     "output_type": "stream",
     "text": [
      "El nombre del perro es:  capote\n",
      "La temperatura del perro es:  37\n"
     ]
    }
   ],
   "source": [
    "capote=Dog(\"capote\",37)\n",
    "capote.status()"
   ]
  },
  {
   "cell_type": "code",
   "execution_count": 21,
   "metadata": {},
   "outputs": [
    {
     "name": "stdout",
     "output_type": "stream",
     "text": [
      "3\n"
     ]
    }
   ],
   "source": [
    "capote.setTemperature(3) "
   ]
  },
  {
   "cell_type": "code",
   "execution_count": 23,
   "metadata": {},
   "outputs": [
    {
     "name": "stdout",
     "output_type": "stream",
     "text": [
      "El nombre del perro es:  capote\n",
      "La temperatura del perro es:  3\n"
     ]
    }
   ],
   "source": [
    "#reemplaza el valor de temperatura, el nuevo por el viejo\n",
    "capote.status()"
   ]
  },
  {
   "cell_type": "markdown",
   "metadata": {},
   "source": [
    "## Neural Network"
   ]
  },
  {
   "cell_type": "markdown",
   "metadata": {},
   "source": [
    "1. El esqueleto del codigo\n",
    "    * Inicializacion\n",
    "        * NUMERO DE NODOS EN INPUT, HIDDEN Y OUTPUT\n",
    "    \n",
    "    * Entrenamiento \n",
    "        * Redefinir los pesos \n",
    "    * Query\n",
    "        * Dar una respuesta de los nodos de salida despues de haber recibido la entrada"
   ]
  },
  {
   "cell_type": "raw",
   "metadata": {},
   "source": [
    "class NeuralNetwork:\n",
    "    def __init__(self,inputnodes,hiddennodes,outputnodes, learningrate):\n",
    "        self.inodes=inputnodes\n",
    "        self.hnodes=hiddennodes\n",
    "        self.onodes=outputnodes\n",
    "        \n",
    "        #learning rate\n",
    "        self.lr=learningrate\n",
    "        pass\n",
    "    def train():\n",
    "        pass\n",
    "\n",
    "    def query():\n",
    "        pass\n",
    "    "
   ]
  },
  {
   "cell_type": "code",
   "execution_count": 38,
   "metadata": {},
   "outputs": [],
   "source": [
    "import numpy as np\n",
    "import scipy.special\n",
    "class NeuralNetwork:\n",
    "    def __init__(self,inputnodes,hiddennodes,outputnodes, learningrate):\n",
    "        self.inodes=inputnodes\n",
    "        self.hnodes=hiddennodes\n",
    "        self.onodes=outputnodes\n",
    "\n",
    "        #se inicializan los pesos \n",
    "        self.wih= np.random.normal(0.0, pow(self.hnodes,-0,5),(self.hnodes,self.inodes))\n",
    "        self.who= np.random.normal(0.0, pow(self.hnodes,-0,5),(self.hnodes,self.inodes))\n",
    "\n",
    "        #se define el learning rate\n",
    "        self.lr=learningrate\n",
    "        \n",
    "        #se define la funcion de activacion\n",
    "        self.activation_function =lambda x:scipy.special.expit(x)\n",
    "        \n",
    "        pass\n",
    "    \n",
    "    def train(self, inputs_list, target_list):\n",
    "        #SE TRANSFORMA LA LISTA DE INPUTS EN UN ARRAY DE DOS DIMENSIONES\n",
    "        inputs=np.array(inputs_list,ndmin=2).T\n",
    "        targets = np.array(target_list, ndim=2).T\n",
    "\n",
    "        #SE CALCULA LAS SEÑALES DENTRO DE LA CAPA OCULTA\n",
    "        hidden_inputs = np.dot(self.wih,inputs)\n",
    "        \n",
    "        #SE CALCULA LAS SEÑALES EMERGENTES DE LA CAPA OCULTA\n",
    "        hidden_outputs= self.activation_function(hidden_inputs)\n",
    "        \n",
    "        #SE CALCULA LAS SEÑALES DENTRO DE LA CAPA FINAL\n",
    "        final_inputs = np.dot(self.who,hidden_outputs)\n",
    "        \n",
    "        #SE CALCULA LAS SEÑALES EMERGENTES DE LA CAPA FINAL\n",
    "        final_outputs= self.activation_function(final_inputs)\n",
    "        \n",
    "        output_errors= targets - final_outputs\n",
    "        \n",
    "        #ERROR DE LAS CAPAS OCULTAS ES EL ERROR DE SALIDA DIVIDIDO POR LOS PEOS, RECOMBINADO\n",
    "        #LOS NODOS OCULTOS\n",
    "        hidden_errors = np.dot(self.who.T,output_errors)\n",
    "        \n",
    "        #ACTUALIZAR LOS PESOS DE LOS ENLACES ENTRE LA CAPA OCULTA Y LA DE SALIDA\n",
    "        self.who+= self.lr * np.dot((output_errors*final_outputs*(1.0-final_outputs)),np.transpose(hidden_outputs))\n",
    "        \n",
    "        #ACTUALIZAR LOS PESOS DE LOS ENLACES ENTRE LA CAPA entrada Y LA OCULTA\n",
    "        self.wih+= self.lr * np.dot((hidden_errors*hidden_outputs*(1.0-hidden_outputs)),np.transpose(inputs))\n",
    "        \n",
    "        pass\n",
    "\n",
    "    def query(self, inputs_list):\n",
    "        #SE TRANSFORMA LA LISTA DE INPUTS EN UN ARRAY DE DOS DIMENSIONES\n",
    "        inputs=np.array(inputs_list,ndmin=2).T\n",
    "\n",
    "        #SE CALCULA LAS SEÑALES DENTRO DE LA CAPA OCULTA\n",
    "        hidden_inputs = np.dot(self.wih,inputs)\n",
    "        \n",
    "        #SE CALCULA LAS SEÑALES EMERGENTES DE LA CAPA OCULTA\n",
    "        hidden_outputs= self.activation_function(hidden_inputs)\n",
    "        \n",
    "        #SE CALCULA LAS SEÑALES DENTRO DE LA CAPA FINAL\n",
    "        final_inputs = np.dot(self.who,hidden_outputs)\n",
    "        \n",
    "        #SE CALCULA LAS SEÑALES EMERGENTES DE LA CAPA FINAL\n",
    "        final_outputs= self.activation_function(final_inputs)\n",
    "        \n",
    "        return final_outputs\n",
    "    "
   ]
  },
  {
   "cell_type": "code",
   "execution_count": 39,
   "metadata": {},
   "outputs": [
    {
     "data": {
      "text/plain": [
       "array([[0.55047742],\n",
       "       [0.29926473],\n",
       "       [0.40971276]])"
      ]
     },
     "execution_count": 39,
     "metadata": {},
     "output_type": "execute_result"
    }
   ],
   "source": [
    "#Declaramos los valores de input, hidden y output nodes\n",
    "input_nodes=3\n",
    "hidden_nodes=3\n",
    "output_nodes=3\n",
    "\n",
    "learning_rate=0.3\n",
    "#se crea la instancia\n",
    "nn=NeuralNetwork(input_nodes,hidden_nodes,output_nodes,learning_rate)\n",
    "nn.query([1.0,0.5,-1.5])"
   ]
  },
  {
   "cell_type": "markdown",
   "metadata": {},
   "source": [
    "### HACIENDO EL ENTRENAMIENTO\n"
   ]
  },
  {
   "cell_type": "code",
   "execution_count": null,
   "metadata": {},
   "outputs": [],
   "source": []
  }
 ],
 "metadata": {
  "kernelspec": {
   "display_name": "Python 3",
   "language": "python",
   "name": "python3"
  },
  "language_info": {
   "codemirror_mode": {
    "name": "ipython",
    "version": 3
   },
   "file_extension": ".py",
   "mimetype": "text/x-python",
   "name": "python",
   "nbconvert_exporter": "python",
   "pygments_lexer": "ipython3",
   "version": "3.5.5"
  }
 },
 "nbformat": 4,
 "nbformat_minor": 2
}
