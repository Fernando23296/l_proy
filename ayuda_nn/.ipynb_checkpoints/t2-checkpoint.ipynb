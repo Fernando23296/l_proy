{
 "cells": [
  {
   "cell_type": "code",
   "execution_count": 1,
   "metadata": {},
   "outputs": [],
   "source": [
    "%matplotlib inline"
   ]
  },
  {
   "cell_type": "code",
   "execution_count": 2,
   "metadata": {},
   "outputs": [],
   "source": [
    "from matplotlib import pyplot as plt\n",
    "import numpy as np"
   ]
  },
  {
   "cell_type": "code",
   "execution_count": 3,
   "metadata": {},
   "outputs": [],
   "source": [
    "#cada dato corresponde a una flor, length, width, type (0,1)\n",
    "data =[[3, 1.5, 1],\n",
    "       [2,   1, 0],\n",
    "       [4, 1.5, 1],\n",
    "       [3,   1, 0],\n",
    "       [3.5,0.5,1],\n",
    "       [2,  0.5,0],\n",
    "       [5.5,  1,1],\n",
    "       [1,    1,0]]\n",
    "mystery_flower=[4.5,1]"
   ]
  },
  {
   "cell_type": "code",
   "execution_count": 5,
   "metadata": {},
   "outputs": [
    {
     "data": {
      "text/plain": [
       "1.5"
      ]
     },
     "execution_count": 5,
     "metadata": {},
     "output_type": "execute_result"
    }
   ],
   "source": [
    "data[0][1]"
   ]
  },
  {
   "cell_type": "code",
   "execution_count": 6,
   "metadata": {},
   "outputs": [],
   "source": [
    "def sigmoid(x):\n",
    "    return 1/(1+np.exp(-x))\n",
    "def sigmoid_p(x):\n",
    "    return sigmoid(x)*(1-sigmoid(x))"
   ]
  },
  {
   "cell_type": "code",
   "execution_count": 17,
   "metadata": {},
   "outputs": [
    {
     "data": {
      "text/plain": [
       "[<matplotlib.lines.Line2D at 0x10e564240>]"
      ]
     },
     "execution_count": 17,
     "metadata": {},
     "output_type": "execute_result"
    },
    {
     "data": {
      "image/png": "[encoded data removed]",
      "text/plain": [
       "<Figure size 432x288 with 1 Axes>"
      ]
     },
     "metadata": {
      "needs_background": "light"
     },
     "output_type": "display_data"
    }
   ],
   "source": [
    "T= np.linspace(-6,6,100)\n",
    "\n",
    "plt.plot(T,sigmoid(T),'r')\n",
    "plt.plot(T,sigmoid_p(T),'b')\n"
   ]
  },
  {
   "cell_type": "code",
   "execution_count": 28,
   "metadata": {},
   "outputs": [
    {
     "data": {
      "image/png": "[encoded data removed]",
      "text/plain": [
       "<Figure size 432x288 with 1 Axes>"
      ]
     },
     "metadata": {
      "needs_background": "light"
     },
     "output_type": "display_data"
    }
   ],
   "source": [
    "#grafico de la muestra en data\n",
    "for i in range(len(data)):\n",
    "    color=\"b\"\n",
    "    point=data[i]\n",
    "    if (point[2]==1):\n",
    "        color=\"r\"\n",
    "    plt.scatter(point[0],point[1],c=color)"
   ]
  },
  {
   "cell_type": "code",
   "execution_count": 38,
   "metadata": {},
   "outputs": [],
   "source": [
    "w1=np.random.randn()\n",
    "w2=np.random.randn()\n",
    "b=np.random.randn()\n",
    "\n",
    "\n",
    "#ciclo de entrenamiento\n",
    "for i in range(100):\n",
    "    ri=np.random.randint(len(data))\n",
    "    point=data[ri]\n",
    "    z = (point[0]*w1) + (point[1]*w2) +b\n",
    "    pred = sigmoid(z)\n",
    "    target= point[2]\n",
    "    cost=np.square(pred-target)\n",
    "    \n",
    "    derivada_cost_pred=2*(pred-target)\n",
    "    derivada_dz=sigmoid_p(z)\n",
    "    \n",
    "    #derivadas de z con respecto a:...w1,w2,b\n",
    "    dz_dw1=point[0]\n",
    "    dz_dw2=point[1]\n",
    "    dz_db=1"
   ]
  },
  {
   "cell_type": "code",
   "execution_count": null,
   "metadata": {},
   "outputs": [],
   "source": [
    "def "
   ]
  }
 ],
 "metadata": {
  "kernelspec": {
   "display_name": "Python 3",
   "language": "python",
   "name": "python3"
  },
  "language_info": {
   "codemirror_mode": {
    "name": "ipython",
    "version": 3
   },
   "file_extension": ".py",
   "mimetype": "text/x-python",
   "name": "python",
   "nbconvert_exporter": "python",
   "pygments_lexer": "ipython3",
   "version": "3.5.5"
  }
 },
 "nbformat": 4,
 "nbformat_minor": 2
}
